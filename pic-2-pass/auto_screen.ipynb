{
 "cells": [
  {
   "cell_type": "code",
   "execution_count": null,
   "metadata": {},
   "outputs": [],
   "source": [
    "import cv2\n",
    "import cvzone\n",
    "import cv2.data\n",
    "from cvzone.HandTrackingModule import HandDetector\n",
    "import pyautogui\n",
    "import matplotlib. pyplot as plt\n",
    "import time"
   ]
  },
  {
   "cell_type": "code",
   "execution_count": null,
   "metadata": {},
   "outputs": [],
   "source": [
    "cap = cv2.VideoCapture(0)\n",
    "detector = HandDetector(detectionCon=0.7,maxHands=1)\n",
    "\n",
    "hand_detected = False\n",
    "fingers = []\n",
    "img_counter=1\n",
    "last_hand_detection_time = time.time()\n",
    "  \n",
    "try:\n",
    "    while True:\n",
    "        sucess,img = cap.read()\n",
    "        if not sucess:\n",
    "            break\n",
    "        hands,img = detector.findHands(img)\n",
    "        if hands:\n",
    "            hand = hands[0]\n",
    "            fingers = detector.fingersUp(hand)\n",
    "\n",
    "            if all(fingers):\n",
    "                if not hand_detected:\n",
    "                    pyautogui.press('space')\n",
    "                    img_name = f\"opencv_frame_{img_counter}.png\"\n",
    "                    cv2.imwrite( img_name,img)\n",
    "                    print(\"screenscot taken\")\n",
    "                \n",
    "                    final_img = cv2.cvtColor(cv2.imread(img_name), cv2.COLOR_BGR2RGB)\n",
    "                    plt.figure(figsize=(8,6))\n",
    "                    plt.imshow(final_img)  \n",
    "                    plt.show() \n",
    " \n",
    "                    img_counter +=1\n",
    "                    hand_detected = True\n",
    "                    last_hand_detection_time = time.time()\n",
    "            else:\n",
    "                hand_detected = False\n",
    "        else:\n",
    "            hand_detected = False\n",
    "        \n",
    "        if not hand_detected:\n",
    "            elapsed_time = time.time() - last_hand_detection_time\n",
    "            if elapsed_time > 6:\n",
    "                print(\"No hands detected for 6    seconds. Exiting...\")\n",
    "                break\n",
    "\n",
    "        if cv2.waitKey(     ) & 0xFF == ord('q'):\n",
    "            print(\"Quitting...\")\n",
    "            break\n",
    "\n",
    "finally:\n",
    "    cap.release()\n",
    "    cv2.destroyAllWindows()"
   ]
  },
  {
   "cell_type": "code",
   "execution_count": 69,
   "metadata": {},
   "outputs": [],
   "source": [
    "path = 'opencv_frame_1.png'\n",
    "\n",
    "face = cv2.imread(path)\n",
    "copy = face.copy()"
   ]
  },
  {
   "cell_type": "code",
   "execution_count": 70,
   "metadata": {},
   "outputs": [
    {
     "data": {
      "text/plain": [
       "(480, 640)"
      ]
     },
     "execution_count": 70,
     "metadata": {},
     "output_type": "execute_result"
    }
   ],
   "source": [
    "gray_img = cv2.cvtColor(face,cv2.COLOR_BGR2GRAY)\n",
    "gray_img.shape"
   ]
  },
  {
   "cell_type": "code",
   "execution_count": 71,
   "metadata": {},
   "outputs": [],
   "source": [
    "face_detect = cv2.CascadeClassifier(cv2.data.haarcascades + \"haarcascade_frontalface_default.xml\")"
   ]
  },
  {
   "cell_type": "code",
   "execution_count": 72,
   "metadata": {},
   "outputs": [],
   "source": [
    "det = face_detect.detectMultiScale(gray_img,scaleFactor=1.1,minNeighbors=4,minSize=(40,40))"
   ]
  },
  {
   "cell_type": "code",
   "execution_count": null,
   "metadata": {},
   "outputs": [],
   "source": [
    "for x,y,w,h in det:\n",
    "    cv2.rectangle(face,(x,y),(x+w,y+h),(0,0,0),4)\n",
    "\n",
    "detected = cv2.cvtColor(face,cv2.COLOR_BGR2RGB)\n",
    "plt.figure(figsize=(8,6))\n",
    "plt.imshow(detected)\n",
    "plt.axis('off')\n",
    "plt.title('face_detected_img')\n",
    "\n",
    "passport_width_inches = 3.5\n",
    "passport_height_inches = 4.8\n",
    "dpi = 300      \n",
    "passport_width_pixels = int(passport_width_inches * dpi)\n",
    "passport_height_pixels = int(passport_height_inches * dpi)\n",
    "\n",
    "\n",
    "for x,y,w,h in det:\n",
    "    border_x = int(w * 0.25) \n",
    "    border_y = int(h * 0.25)\n",
    "\n",
    "    new_x = max(x - border_x, 0)\n",
    "    new_y = max(y - border_y, 0)\n",
    "    new_w = min(x + w + border_x, face.shape[1]) - new_x\n",
    "    new_h = min(y + h + border_y, face.shape[0]) - new_y\n",
    "    print(new_h,new_w,new_x,new_y)\n",
    "\n",
    "    expanded_cropped = face[new_y:new_y + new_h, new_x:new_x + new_w]\n",
    "    resized_cropped = cv2.resize(expanded_cropped, (passport_width_pixels, passport_height_pixels), interpolation=cv2.INTER_CUBIC)\n",
    "    \n",
    "    cropped_image = copy[new_y:new_y+new_h, new_x:new_x+new_w]\n"
   ]
  },
  {
   "cell_type": "code",
   "execution_count": null,
   "metadata": {},
   "outputs": [],
   "source": [
    "cro = cv2.cvtColor(cropped_image, cv2.COLOR_BGR2RGB) \n",
    "\n",
    "plt.figure(figsize=(8, 6))\n",
    "plt.imshow(cro)\n",
    "plt.axis('off')\n",
    "plt.title('Passport_size_img')\n",
    "\n",
    "cro_bgr = cv2.cvtColor(cro, cv2.COLOR_RGB2BGR)\n",
    "cv2.imwrite('final_face.jpg', cro_bgr)\n"
   ]
  },
  {
   "cell_type": "code",
   "execution_count": null,
   "metadata": {},
   "outputs": [],
   "source": [
    "import cv2\n",
    "import numpy as np\n",
    "import matplotlib.pyplot as plt\n",
    " \n",
    "template_path = r\"D:\\important_\\aadhar_template.jpg\"  \n",
    "template_img = cv2.imread(template_path)\n",
    "\n",
    "placeholder_x, placeholder_y = 245, 245  \n",
    "placeholder_width, placeholder_height = 200, 240  \n",
    "\n",
    "face_img = cv2.imread('final_face.jpg')\n",
    "\n",
    "resized_face = cv2.resize(face_img, (placeholder_width, placeholder_height))\n",
    "\n",
    "template_img[placeholder_y:placeholder_y + placeholder_height, placeholder_x:placeholder_x + placeholder_width] = resized_face\n",
    "\n",
    "final_img_rgb = cv2.cvtColor(template_img, cv2.COLOR_BGR2RGB)\n",
    "plt.figure(figsize=(8, 6))\n",
    "plt.imshow(final_img_rgb)\n",
    "plt.axis('off')\n",
    "plt.title('Aadhaar Template with Face')\n",
    "plt.show()\n",
    "\n",
    "cv2.imwrite('aadhar_with_face.jpg', template_img)\n"
   ]
  },
  {
   "cell_type": "code",
   "execution_count": null,
   "metadata": {},
   "outputs": [],
   "source": []
  }
 ],
 "metadata": {
  "kernelspec": {
   "display_name": "Python 3",
   "language": "python",
   "name": "python3"
  },
  "language_info": {
   "codemirror_mode": {
    "name": "ipython",
    "version": 3
   },
   "file_extension": ".py",
   "mimetype": "text/x-python",
   "name": "python",
   "nbconvert_exporter": "python",
   "pygments_lexer": "ipython3",
   "version": "3.11.8"
  }
 },
 "nbformat": 4,
 "nbformat_minor": 2
}
